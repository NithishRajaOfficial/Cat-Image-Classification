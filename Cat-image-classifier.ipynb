{
 "cells": [
  {
   "cell_type": "markdown",
   "id": "f28795eb",
   "metadata": {},
   "source": [
    "## Cat-Image-Classification Using Deep Learning"
   ]
  },
  {
   "cell_type": "markdown",
   "id": "ce3cf3cc",
   "metadata": {},
   "source": [
    "<font color=\"blue\"> This Project is to classify the Image of Cat using Deep Learning in depth of Logistic Regression by <b>Nithish_Raja</b>\n",
    "\n",
    "* Build a logistic regression classifier to recognize  cats. This Project will step you through how to do this with a Neural Network mindset, and so will also hone your intuitions about deep learning.\n",
    "\n",
    "**You will learn to:**\n",
    "- Build the general architecture of a learning algorithm, including:\n",
    "    - Initializing parameters\n",
    "    - Calculating the cost function and its gradient\n",
    "    - Using an optimization algorithm (gradient descent) \n",
    "- Gather all three functions above into a main model function, in the right order."
   ]
  },
  {
   "cell_type": "markdown",
   "id": "ab262d5f",
   "metadata": {},
   "source": [
    "## Overview of Problem ##\n",
    "\n",
    "\n",
    "**Problem Statement**: You are given a dataset (\"data.h5\") containing:\n",
    "    - a training set of m_train images labeled as cat (y=1) or non-cat (y=0)\n",
    "    - a test set of m_test images labeled as cat or non-cat\n",
    "    - each image is of shape (num_px, num_px, 3) where 3 is for the 3 channels (RGB). Thus, each image is square (height = num_px) and (width = num_px).\n",
    "    \n",
    "* Build a simple image-recognition algorithm that can correctly classify pictures as cat or non-cat."
   ]
  },
  {
   "cell_type": "markdown",
   "id": "3e0154e7",
   "metadata": {},
   "source": [
    "### 1. Package (Importing Session)\n",
    "\n",
    "- [numpy](www.numpy.org) is the fundamental package for scientific computing with Python.\n",
    "- [h5py](http://www.h5py.org) is a common package to interact with a dataset that is stored on an H5 file.\n",
    "- [matplotlib](http://matplotlib.org) is a famous library to plot graphs in Python.\n",
    "- [PIL](http://www.pythonware.com/products/pil/) and [scipy](https://www.scipy.org/) are used here to test your model with your own picture at the end."
   ]
  },
  {
   "cell_type": "code",
   "execution_count": 33,
   "id": "95bf7773",
   "metadata": {},
   "outputs": [],
   "source": [
    "import numpy as np \n",
    "import matplotlib.pyplot as plt\n",
    "import h5py\n",
    "import scipy\n",
    "from PIL import Image\n",
    "from scipy import ndimage\n",
    "from lr_utils import load_dataset \n",
    "\n",
    "%matplotlib inline"
   ]
  },
  {
   "cell_type": "code",
   "execution_count": 34,
   "id": "5158589c",
   "metadata": {},
   "outputs": [],
   "source": [
    "# Loading a Dataset \n",
    "# Here we importing the lr_utils.py function to call \n",
    "#the test and train data\n",
    "x_train, y_train, x_test, y_test, classes = load_dataset()"
   ]
  },
  {
   "cell_type": "markdown",
   "id": "efbc1b81",
   "metadata": {},
   "source": [
    "**Example Image**"
   ]
  },
  {
   "cell_type": "code",
   "execution_count": 35,
   "id": "982c2eba",
   "metadata": {},
   "outputs": [
    {
     "name": "stdout",
     "output_type": "stream",
     "text": [
      "It is cat picture\n"
     ]
    },
    {
     "data": {
      "image/png": "[encoded data removed]",
      "text/plain": [
       "<Figure size 640x480 with 1 Axes>"
      ]
     },
     "metadata": {},
     "output_type": "display_data"
    }
   ],
   "source": [
    "index = 25 #You can see other images while changing the index\n",
    "plt.imshow(x_train[index])\n",
    "print(\"It is\", classes[np.squeeze(y_train[:,index])].decode(\"utf-8\"), \"picture\")"
   ]
  },
  {
   "cell_type": "markdown",
   "id": "71444b63",
   "metadata": {},
   "source": [
    "**Calculating a training and testing Samples**\n",
    "\n",
    "- Training Sample\n",
    "- Testing Sample\n",
    "- Height and Width of the Image\n",
    "- Size of an Image\n",
    "- Shape of Train data (Both x and y)\n",
    "- Shape of Test data (Both x and y)"
   ]
  },
  {
   "cell_type": "code",
   "execution_count": 36,
   "id": "a74959da",
   "metadata": {},
   "outputs": [
    {
     "name": "stdout",
     "output_type": "stream",
     "text": [
      "No. of Training Examples: 209\n",
      "No. of Testing Examples: 50\n",
      "Height and Width of the Image: 64\n",
      "Size of an each image: (64, 64, 3)\n",
      "Shape of the X_train: (209, 64, 64, 3)\n",
      "Shape of the Y_train: (1, 209)\n",
      "Shape ot the X_test: (50, 64, 64, 3)\n",
      "Shape of the Y_test: (1, 50)\n"
     ]
    }
   ],
   "source": [
    "m_train = x_train.shape[0]\n",
    "m_test = x_test.shape[0]\n",
    "numpx = x_train[0].shape[0]\n",
    "\n",
    "print(f\"No. of Training Examples: {m_train}\")\n",
    "print(f\"No. of Testing Examples: {m_test}\")\n",
    "print(f\"Height and Width of the Image: {numpx}\")\n",
    "print(f\"Size of an each image: ({numpx}, {numpx}, 3)\")\n",
    "print(f\"Shape of the X_train: {x_train.shape}\")\n",
    "print(f\"Shape of the Y_train: {y_train.shape}\")\n",
    "print(f\"Shape ot the X_test: {x_test.shape}\")\n",
    "print(f\"Shape of the Y_test: {y_test.shape}\")"
   ]
  },
  {
   "cell_type": "markdown",
   "id": "3eea6fe3",
   "metadata": {},
   "source": [
    "- Reshaping the training and test data sets so that images of size (num_px, num_px, 3) are flattened into single vectors of shape (num\\_px $*$ num\\_px $*$ 3, 1).\n",
    "\n",
    "* X.reshape(X.shape[0], -1).T"
   ]
  },
  {
   "cell_type": "code",
   "execution_count": 37,
   "id": "f4a78317",
   "metadata": {},
   "outputs": [],
   "source": [
    "#train data reshaping\n",
    "x_train_flatten = x_train.reshape(x_train.shape[0], -1).T\n",
    "\n",
    "#test data reshaping\n",
    "x_test_flatten = x_test.reshape(x_test.shape[0],-1).T"
   ]
  },
  {
   "cell_type": "code",
   "execution_count": 38,
   "id": "e87ac4d2",
   "metadata": {},
   "outputs": [
    {
     "name": "stdout",
     "output_type": "stream",
     "text": [
      "Flatten X_train: (12288, 209)\n",
      "Flatten X_test: (12288, 50)\n"
     ]
    }
   ],
   "source": [
    "print(f\"Flatten X_train: {x_train_flatten.shape}\")\n",
    "print(f\"Flatten X_test: {x_test_flatten.shape}\")"
   ]
  },
  {
   "cell_type": "markdown",
   "id": "e45a315a",
   "metadata": {},
   "source": [
    "<font color=\"Blue\">\n",
    "To represent color images, the red, green and blue channels (RGB) must be specified for each pixel, and so the pixel value is actually a vector of three numbers ranging from 0 to 255.\n",
    "<font color=\"red\">\n",
    "One common preprocessing step in machine learning is to center and standardize your dataset, meaning that you substract the mean of the whole numpy array from each example, and then divide each example by the standard deviation of the whole numpy array. But for picture datasets, it is simpler and more convenient and works almost as well to just divide every row of the dataset by 255 (the maximum value of a pixel channel)."
   ]
  },
  {
   "cell_type": "markdown",
   "id": "047a0b42",
   "metadata": {},
   "source": [
    "Standardizing the Dataset"
   ]
  },
  {
   "cell_type": "code",
   "execution_count": 39,
   "id": "c6cb5055",
   "metadata": {},
   "outputs": [],
   "source": [
    "train_x = x_train_flatten/255.\n",
    "test_x = x_test_flatten/255."
   ]
  },
  {
   "cell_type": "markdown",
   "id": "357d8687",
   "metadata": {},
   "source": [
    "## General Architecture of the learning algorithm ##\n",
    "\n",
    "It's time to design a simple algorithm to distinguish cat images from non-cat images.\n",
    "\n",
    "* Build a Logistic Regression, using a Neural Network mindset.\n",
    "\n",
    "**Building the parts of our algorithm:**\n",
    "\n",
    "1. Define the model structure (such as number of input features) \n",
    "2. Initialize the model's parameters\n",
    "3. Loop:\n",
    "    - Calculate current loss (forward propagation)\n",
    "    - Calculate current gradient (backward propagation)\n",
    "    - Update parameters (gradient descent)"
   ]
  },
  {
   "cell_type": "markdown",
   "id": "7d4e9d1b",
   "metadata": {},
   "source": [
    "$sigmoid( w^T x + b) = \\frac{1}{1 + e^{-(w^T x + b)}}$ to make predictions.\n",
    "\n",
    "\n",
    "**Step-1 Define teh model Structure**"
   ]
  },
  {
   "cell_type": "code",
   "execution_count": 40,
   "id": "5b7c18c8",
   "metadata": {},
   "outputs": [],
   "source": [
    "def sigmoid(z):\n",
    "    s = 1 / (1 + np.exp(-z))\n",
    "    return s"
   ]
  },
  {
   "cell_type": "code",
   "execution_count": 41,
   "id": "93d5f8a1",
   "metadata": {},
   "outputs": [
    {
     "name": "stdout",
     "output_type": "stream",
     "text": [
      "sigmoid([0, 2]) = [0.5        0.88079708]\n"
     ]
    }
   ],
   "source": [
    "print(\"sigmoid([0, 2]) = \" + str(sigmoid(np.array([0,2]))))"
   ]
  },
  {
   "cell_type": "markdown",
   "id": "6d90076f",
   "metadata": {},
   "source": [
    "**Step-2 Initializing the Parameters**\n",
    "\n",
    "    w -- initialized vector of shape (dim, 1)\n",
    "    b -- initialized scalar (corresponds to the bias)\n",
    "    "
   ]
  },
  {
   "cell_type": "code",
   "execution_count": 42,
   "id": "ffc7a37c",
   "metadata": {},
   "outputs": [],
   "source": [
    "def initialize(dim):\n",
    "    w = np.zeros([dim, 1])\n",
    "    b = 0\n",
    "    return w, b"
   ]
  },
  {
   "cell_type": "code",
   "execution_count": 43,
   "id": "b296de02",
   "metadata": {},
   "outputs": [
    {
     "name": "stdout",
     "output_type": "stream",
     "text": [
      "w = [[0.]\n",
      " [0.]]\n",
      "b = 0\n"
     ]
    }
   ],
   "source": [
    "dim = 2\n",
    "w, b = initialize(dim)\n",
    "print(f\"w = {w}\")\n",
    "print(f\"b = {b}\")"
   ]
  },
  {
   "cell_type": "markdown",
   "id": "d951070d",
   "metadata": {},
   "source": [
    "**Forward and Backward Propagation**\n",
    "\n",
    "Implement a function `propagate()` that computes the cost function and its gradient.\n",
    "\n",
    "Forward Propagation:\n",
    "- You get X\n",
    "- You compute $A = \\sigma(w^T X + b) = (a^{(0)}, a^{(1)}, ..., a^{(m-1)}, a^{(m)})$\n",
    "- You calculate the cost function: $J = -\\frac{1}{m}\\sum_{i=1}^{m}y^{(i)}\\log(a^{(i)})+(1-y^{(i)})\\log(1-a^{(i)})$\n",
    "\n",
    "Backward Propagation:\n",
    "$$ \\frac{\\partial J}{\\partial w} = \\frac{1}{m}X(A-Y)^T\\tag{7}$$\n",
    "$$ \\frac{\\partial J}{\\partial b} = \\frac{1}{m} \\sum_{i=1}^m (a^{(i)}-y^{(i)})\\tag{8}$$\n"
   ]
  },
  {
   "cell_type": "code",
   "execution_count": 44,
   "id": "cbd61ae5",
   "metadata": {},
   "outputs": [],
   "source": [
    "def propagate(w,b,X,Y):\n",
    "    m = X.shape[1]\n",
    "    \n",
    "    #forward propagation\n",
    "    A = sigmoid(np.dot(w.T, X) + b) \n",
    "    #cost = -np.sum(Y*np.log(A) + (1-Y) *np.log(1-A))/m\n",
    "    cost = -np.sum(Y * np.log(A) + (1 - Y) * np.log(1 - A)) / m\n",
    "    #Backward propagation\n",
    "    dw = np.dot(X, (A - Y).T) / m\n",
    "    db = np.sum(A - Y) / m\n",
    "    cost = np.squeeze(cost)\n",
    "    grads = {\"dw\": dw, \n",
    "             \"db\": db}\n",
    "    return grads, cost"
   ]
  },
  {
   "cell_type": "code",
   "execution_count": 45,
   "id": "b5788c1f",
   "metadata": {},
   "outputs": [
    {
     "name": "stdout",
     "output_type": "stream",
     "text": [
      "dw =  [[0.99993216]\n",
      " [1.99980262]]\n",
      "db = 0.49993523062470574\n",
      "cost = 6.000064773192205\n"
     ]
    }
   ],
   "source": [
    "w, b, X, Y = np.array([[1],[2]]), 2, np.array([[1,2],[3,4]]), np.array([[1,0]])\n",
    "grads, cost = propagate(w, b, X, Y)\n",
    "print(\"dw = \",grads[\"dw\"])\n",
    "print(f\"db = {grads['db']}\")\n",
    "print(f\"cost = {cost}\")"
   ]
  },
  {
   "cell_type": "markdown",
   "id": "9e785cb3",
   "metadata": {},
   "source": [
    "**Optimization**\n",
    "\n",
    "- You have initialized your parameters.\n",
    "- You are also able to compute a cost function and its gradient.\n",
    "- Now, you want to update the parameters using gradient descent."
   ]
  },
  {
   "cell_type": "code",
   "execution_count": 47,
   "id": "f97c87e5",
   "metadata": {},
   "outputs": [],
   "source": [
    "def optimize(w,b,X,Y,num_iterations,learning_rate,print_cost=False):\n",
    "    costs = []\n",
    "    for i in range(num_iterations):\n",
    "        grads, cost = propagate(w,b,X,Y)\n",
    "        dw = grads['dw']\n",
    "        db = grads['db']\n",
    "        w = w-learning_rate*dw\n",
    "        b = b-learning_rate*db\n",
    "        \n",
    "        #record the cost\n",
    "        if i%100==0:\n",
    "            costs.append(cost)\n",
    "        if print_cost and i%100==0:\n",
    "            print(\"Cost afer iteration %i: %f\" %(i, cost))\n",
    "    params = {\"w\":w, \"b\":b}\n",
    "    grads = {\"dw\":dw, \"db\":db}\n",
    "    return params, grads, costs"
   ]
  },
  {
   "cell_type": "code",
   "execution_count": 48,
   "id": "ef92cdc4",
   "metadata": {},
   "outputs": [
    {
     "name": "stdout",
     "output_type": "stream",
     "text": [
      "w = [[0.1124579 ]\n",
      " [0.23106775]]\n",
      "b = 1.5593049248448891\n",
      "dw = [[0.90158428]\n",
      " [1.76250842]]\n",
      "db = 0.4304620716786828\n"
     ]
    }
   ],
   "source": [
    "params,grads,costs = optimize(w,b,X,Y,num_iterations=100, \n",
    "                              learning_rate=0.009, print_cost=False)\n",
    "print(f\"w = {params['w']}\")\n",
    "print(f\"b = {params['b']}\")\n",
    "print(f\"dw = {grads['dw']}\")\n",
    "print(f\"db = {grads['db']}\")"
   ]
  },
  {
   "cell_type": "markdown",
   "id": "2a344998",
   "metadata": {},
   "source": [
    "Use w and b to predict the labels for a dataset X. Implement the `predict()` function. There is two steps to computing predictions:\n",
    "\n",
    "1. Calculate $\\hat{Y} = A = \\sigma(w^T X + b)$\n",
    "\n",
    "2. Convert the entries of a into 0 (if activation <= 0.5) or 1 (if activation > 0.5), stores the predictions in a vector `Y_prediction`. If you wish, you can use an `if`/`else` statement in a `for` loop (though there is also a way to vectorize this). "
   ]
  },
  {
   "cell_type": "code",
   "execution_count": 49,
   "id": "eed7ff4e",
   "metadata": {},
   "outputs": [],
   "source": [
    "def predict(w,b,X):\n",
    "    m = X.shape[1]\n",
    "    Y_pred = np.zeros((1,m))\n",
    "    w = w.reshape(X.shape[0], 1)\n",
    "    \n",
    "    #sigmoid\n",
    "    A = sigmoid(np.dot(w.T, X)+b)\n",
    "    \n",
    "    for i in range(A.shape[1]):\n",
    "        Y_pred[0][i] = 1 if A[0][i]>0.5 else 0\n",
    "        \n",
    "    return Y_pred"
   ]
  },
  {
   "cell_type": "code",
   "execution_count": 50,
   "id": "89fc2e2a",
   "metadata": {},
   "outputs": [
    {
     "name": "stdout",
     "output_type": "stream",
     "text": [
      "Prediction =  [[1. 1.]]\n"
     ]
    }
   ],
   "source": [
    "print(\"Prediction = \", predict(w, b, X))"
   ]
  },
  {
   "cell_type": "markdown",
   "id": "cefeb836",
   "metadata": {},
   "source": [
    "**Merge all functions into a model**\n",
    "\n",
    "You will now see how the overall model is structured by putting together all the building blocks (functions implemented in the previous parts) together, in the right order.\n",
    "\n",
    "    - Y_prediction for your predictions on the test set\n",
    "    - Y_prediction_train for your predictions on the train set\n",
    "    - w, costs, grads for the outputs of optimize()"
   ]
  },
  {
   "cell_type": "code",
   "execution_count": 51,
   "id": "0f41e261",
   "metadata": {},
   "outputs": [],
   "source": [
    "def model(X_train, Y_train, X_test, Y_test, num_iterations = 2000, \n",
    "         learning_rate=0.5, print_cost=False):\n",
    "    \n",
    "    w,b = initialize(X_train.shape[0])\n",
    "    parameters,grads,costs = optimize(w,b,X_train,Y_train,num_iterations,learning_rate, print_cost)\n",
    "    w = parameters['w']\n",
    "    b = parameters['b']\n",
    "    \n",
    "    y_test_pred = predict(w, b, X_test)\n",
    "    y_train_pred = predict(w, b, X_train)\n",
    "    \n",
    "    print(f\"Train Accuracy %{100-np.mean(np.abs(y_train_pred - Y_train))*100}\")\n",
    "    print(f\"Test Accuracy %{100-np.mean(np.abs(y_test_pred - Y_test))*100}\")\n",
    "    \n",
    "    d = {\"costs\" : costs,\n",
    "         \"Y_Train_prediction\": y_train_pred,\n",
    "         \"Y_Test_prediciton\": y_test_pred,\n",
    "         \"w\" :w, \"b\" :b,\n",
    "         \"learning_rate\":learning_rate,\n",
    "         \"num_iterations\":num_iterations}\n",
    "    \n",
    "    return d"
   ]
  },
  {
   "cell_type": "code",
   "execution_count": 52,
   "id": "e05646b5",
   "metadata": {},
   "outputs": [
    {
     "name": "stdout",
     "output_type": "stream",
     "text": [
      "Cost afer iteration 0: 0.693147\n",
      "Cost afer iteration 100: 0.584508\n",
      "Cost afer iteration 200: 0.466949\n",
      "Cost afer iteration 300: 0.376007\n",
      "Cost afer iteration 400: 0.331463\n",
      "Cost afer iteration 500: 0.303273\n",
      "Cost afer iteration 600: 0.279880\n",
      "Cost afer iteration 700: 0.260042\n",
      "Cost afer iteration 800: 0.242941\n",
      "Cost afer iteration 900: 0.228004\n",
      "Cost afer iteration 1000: 0.214820\n",
      "Cost afer iteration 1100: 0.203078\n",
      "Cost afer iteration 1200: 0.192544\n",
      "Cost afer iteration 1300: 0.183033\n",
      "Cost afer iteration 1400: 0.174399\n",
      "Cost afer iteration 1500: 0.166521\n",
      "Cost afer iteration 1600: 0.159305\n",
      "Cost afer iteration 1700: 0.152667\n",
      "Cost afer iteration 1800: 0.146542\n",
      "Cost afer iteration 1900: 0.140872\n",
      "Train Accuracy %99.04306220095694\n",
      "Test Accuracy %70.0\n"
     ]
    }
   ],
   "source": [
    "logistic_regression_model = model(train_x,y_train,test_x,y_test,num_iterations=2000,learning_rate=0.005,print_cost=True,)"
   ]
  },
  {
   "cell_type": "markdown",
   "id": "c77d3ef4",
   "metadata": {},
   "source": [
    "**Plotting a Learning Rate**"
   ]
  },
  {
   "cell_type": "code",
   "execution_count": 53,
   "id": "9c53e1ee",
   "metadata": {},
   "outputs": [
    {
     "data": {
      "image/png": "[encoded data removed]",
      "text/plain": [
       "<Figure size 640x480 with 1 Axes>"
      ]
     },
     "metadata": {},
     "output_type": "display_data"
    }
   ],
   "source": [
    "costs = np.squeeze(logistic_regression_model['costs'])\n",
    "plt.plot(costs)\n",
    "plt.ylabel(\"Costs\")\n",
    "plt.xlabel(\"Iterations (Per hundered)\")\n",
    "plt.title(f\"Learning Rate = {logistic_regression_model['learning_rate']}\")\n",
    "plt.show()"
   ]
  },
  {
   "cell_type": "markdown",
   "id": "3f4bfbe4",
   "metadata": {},
   "source": [
    "**Interpretation**:\n",
    "You can see the cost decreasing. It shows that the parameters are being learned. However, you see that you could train the model even more on the training set. Try to increase the number of iterations in the cell above and rerun the cells. You might see that the training set accuracy goes up, but the test set accuracy goes down. This is called overfitting. "
   ]
  },
  {
   "cell_type": "markdown",
   "id": "12e59b82",
   "metadata": {},
   "source": [
    "# Implementing Our own Image"
   ]
  },
  {
   "cell_type": "code",
   "execution_count": 54,
   "id": "27a4dbbf",
   "metadata": {},
   "outputs": [
    {
     "name": "stdout",
     "output_type": "stream",
     "text": [
      "It is \"cat\" image\n"
     ]
    },
    {
     "data": {
      "image/png": "[encoded data removed]",
      "text/plain": [
       "<Figure size 640x480 with 1 Axes>"
      ]
     },
     "metadata": {},
     "output_type": "display_data"
    }
   ],
   "source": [
    "image = \"images/cat_in_iran.jpg\"\n",
    "\n",
    "# pre_processing the image to fit in our Algorithm\n",
    "#resizing the image\n",
    "resized_image = np.array(Image.open(image).resize((numpx, numpx)))\n",
    "plt.imshow(resized_image)\n",
    "resized_image = resized_image/255.\n",
    "resized_image = resized_image.reshape((1, numpx*numpx*3)).T\n",
    "prediction_of_img = predict(logistic_regression_model['w'],\n",
    "                           logistic_regression_model['b'], resized_image)\n",
    "\n",
    "print(f\"It is \\\"{classes[int(prediction_of_img)].decode('utf-8')}\\\" image\")"
   ]
  },
  {
   "cell_type": "markdown",
   "id": "034b9c1e",
   "metadata": {},
   "source": [
    "**Points to Remember**\n",
    "\n",
    "1. Preprocessing the dataset is important.\n",
    "2. Implementing each function separately: initialize(), propagate(), optimize(). Then built a model().\n",
    "3. Tuning the learning rate (which is an example of a \"hyperparameter\") can make a big difference to the algorithm."
   ]
  },
  {
   "cell_type": "markdown",
   "id": "37e20f60",
   "metadata": {},
   "source": [
    "**Code by** <font color=\"Red\"> <b>Nithish_Raja</b>"
   ]
  }
 ],
 "metadata": {
  "kernelspec": {
   "display_name": "Python 3 (ipykernel)",
   "language": "python",
   "name": "python3"
  },
  "language_info": {
   "codemirror_mode": {
    "name": "ipython",
    "version": 3
   },
   "file_extension": ".py",
   "mimetype": "text/x-python",
   "name": "python",
   "nbconvert_exporter": "python",
   "pygments_lexer": "ipython3",
   "version": "3.10.9"
  }
 },
 "nbformat": 4,
 "nbformat_minor": 5
}
